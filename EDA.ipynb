{
 "cells": [
  {
   "cell_type": "code",
   "execution_count": 3,
   "metadata": {},
   "outputs": [
    {
     "name": "stdout",
     "output_type": "stream",
     "text": [
      "(51525, 13)\n",
      "   price  model_year           model  condition  cylinders fuel  odometer  \\\n",
      "0   9400      2011.0          bmw x5       good        6.0  gas  145000.0   \n",
      "1  25500         NaN      ford f-150       good        6.0  gas   88705.0   \n",
      "2   5500      2013.0  hyundai sonata   like new        4.0  gas  110000.0   \n",
      "3   1500      2003.0      ford f-150       fair        8.0  gas       NaN   \n",
      "4  14900      2017.0    chrysler 200  excellent        4.0  gas   80903.0   \n",
      "5  14990      2014.0    chrysler 300  excellent        6.0  gas   57954.0   \n",
      "6  12990      2015.0    toyota camry  excellent        4.0  gas   79212.0   \n",
      "7  15990      2013.0     honda pilot  excellent        6.0  gas  109473.0   \n",
      "8  11500      2012.0     kia sorento  excellent        4.0  gas  104174.0   \n",
      "9   9200      2008.0     honda pilot  excellent        NaN  gas  147191.0   \n",
      "\n",
      "  transmission    type paint_color  is_4wd date_posted  days_listed  \n",
      "0    automatic     SUV         NaN     1.0  2018-06-23           19  \n",
      "1    automatic  pickup       white     1.0  2018-10-19           50  \n",
      "2    automatic   sedan         red     NaN  2019-02-07           79  \n",
      "3    automatic  pickup         NaN     NaN  2019-03-22            9  \n",
      "4    automatic   sedan       black     NaN  2019-04-02           28  \n",
      "5    automatic   sedan       black     1.0  2018-06-20           15  \n",
      "6    automatic   sedan       white     NaN  2018-12-27           73  \n",
      "7    automatic     SUV       black     1.0  2019-01-07           68  \n",
      "8    automatic     SUV         NaN     1.0  2018-07-16           19  \n",
      "9    automatic     SUV        blue     1.0  2019-02-15           17  \n",
      "       price  model_year                       model  condition  cylinders  \\\n",
      "51515  12000      2005.0  chevrolet silverado 2500hd       good        8.0   \n",
      "51516   8999      2011.0         jeep grand cherokee       good        6.0   \n",
      "51517  11000      2012.0               dodge charger  excellent        8.0   \n",
      "51518   3750      2005.0                 ford taurus  excellent        6.0   \n",
      "51519  11750      2015.0                honda accord  excellent        4.0   \n",
      "51520   9249      2013.0               nissan maxima   like new        6.0   \n",
      "51521   2700      2002.0                 honda civic    salvage        4.0   \n",
      "51522   3950      2009.0              hyundai sonata  excellent        4.0   \n",
      "51523   7455      2013.0              toyota corolla       good        4.0   \n",
      "51524   6300      2014.0               nissan altima       good        4.0   \n",
      "\n",
      "         fuel  odometer transmission    type paint_color  is_4wd date_posted  \\\n",
      "51515  diesel  228000.0    automatic  pickup      silver     1.0  2018-08-18   \n",
      "51516     gas       NaN    automatic     SUV       white     1.0  2018-11-01   \n",
      "51517     gas   81000.0    automatic   sedan       black     NaN  2019-04-19   \n",
      "51518     gas  110200.0    automatic   sedan      silver     NaN  2018-08-10   \n",
      "51519     gas       NaN    automatic   coupe         NaN     NaN  2018-11-24   \n",
      "51520     gas   88136.0    automatic   sedan       black     NaN  2018-10-03   \n",
      "51521     gas  181500.0    automatic   sedan       white     NaN  2018-11-14   \n",
      "51522     gas  128000.0    automatic   sedan        blue     NaN  2018-11-15   \n",
      "51523     gas  139573.0    automatic   sedan       black     NaN  2018-07-02   \n",
      "51524     gas       NaN    automatic   sedan         NaN     NaN  2018-06-05   \n",
      "\n",
      "       days_listed  \n",
      "51515           52  \n",
      "51516           51  \n",
      "51517           44  \n",
      "51518           63  \n",
      "51519           89  \n",
      "51520           37  \n",
      "51521           22  \n",
      "51522           32  \n",
      "51523           71  \n",
      "51524           10  \n",
      "hi\n"
     ]
    }
   ],
   "source": [
    "import pandas as pd\n",
    "import matplotlib.pyplot as plt\n",
    "import seaborn as sns\n",
    "\n",
    "df = pd.read_csv('vehicles_us.csv')\n",
    "print(df.shape)\n",
    "print(df.head(10))\n",
    "print(df.tail(10))\n",
    "\n",
    "print('hi')"
   ]
  }
 ],
 "metadata": {
  "kernelspec": {
   "display_name": "Python 3 (ipykernel)",
   "language": "python",
   "name": "python3"
  },
  "language_info": {
   "codemirror_mode": {
    "name": "ipython",
    "version": 3
   },
   "file_extension": ".py",
   "mimetype": "text/x-python",
   "name": "python",
   "nbconvert_exporter": "python",
   "pygments_lexer": "ipython3",
   "version": "3.11.5"
  }
 },
 "nbformat": 4,
 "nbformat_minor": 2
}
